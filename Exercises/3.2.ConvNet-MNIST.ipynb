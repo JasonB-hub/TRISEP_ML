{
 "cells": [
  {
   "cell_type": "markdown",
   "metadata": {},
   "source": [
    "# <a href=\"https://colab.research.google.com/github/makagan/TRISEP_Tutorial/blob/main/Exercises/3.2.ConvNet-MNIST.ipynb\" target=\"_parent\"><img src=\"https://colab.research.google.com/assets/colab-badge.svg\" alt=\"Open In Colab\"/></a>"
   ]
  },
  {
   "attachments": {},
   "cell_type": "markdown",
   "metadata": {},
   "source": [
    "# MNIST + MLP + CNN\n",
    "\n",
    "Adapted from [notebooks](https://github.com/odsl-team/block-course-apr24-ML/tree/main/Exercises) developed by Baran Hashemi and [notebook](https://github.com/drinkingkazu/TRISEP2022ML/blob/master/NeuralNetworks/NN-01-CNN.ipynb) by Kazuhiro Terao\n",
    "\n",
    "\n",
    "\n",
    "In this notebook, we will explore convolution filters, and then design and train a Convolutional Neural Network (CNN) for hand-written digit classification task. We use MNIST dataset that contains 28x28 pixel images of a hand-written digit (0 to 9, so 10 classification targets). \n",
    "\n",
    "## Goals\n",
    "1. Explore how filters work\n",
    "2. Design CNN and train on MNIST\n",
    "\n",
    "Let's start with usual import!"
   ]
  },
  {
   "cell_type": "code",
   "execution_count": 1,
   "metadata": {},
   "outputs": [],
   "source": [
    "import matplotlib.pyplot as plt\n",
    "import matplotlib as mpl\n",
    "%matplotlib inline\n",
    "mpl.rcParams['figure.figsize'] = [8, 6]\n",
    "mpl.rcParams['font.size'] = 16\n",
    "mpl.rcParams['axes.grid'] = True\n",
    "\n",
    "import torch\n",
    "device = torch.device('cuda' if torch.cuda.is_available() else 'cpu')\n",
    "torch.device(device)\n",
    "import numpy as np\n",
    "SEED=12345\n",
    "_=np.random.seed(SEED)\n",
    "_=torch.manual_seed(SEED)\n"
   ]
  },
  {
   "cell_type": "markdown",
   "metadata": {},
   "source": [
    "## Part 1: Understanding Convlutions"
   ]
  },
  {
   "cell_type": "markdown",
   "metadata": {},
   "source": [
    "## Step 0: Some later required functions"
   ]
  },
  {
   "cell_type": "code",
   "execution_count": 2,
   "metadata": {},
   "outputs": [],
   "source": [
    "# Some Plotting Functions\n",
    "\n",
    "def show_grating(img, ax=None, show=False):\n",
    "  \"\"\"Visualize a grating\"\"\"\n",
    "  if ax is None:\n",
    "    ax = plt.gca()\n",
    "  ax.imshow(img+0.5, cmap=mpl.cm.binary)\n",
    "  ax.set_xticks([])\n",
    "  ax.set_yticks([])\n",
    "  ax.spines['left'].set_visible(False)\n",
    "  ax.spines['bottom'].set_visible(False)\n",
    "  if show:\n",
    "    plt.show()\n",
    "\n",
    "\n",
    "def plot_weights(weights, channels=[0]):\n",
    "  \"\"\" plot convolutional channel weights\n",
    "  Args:\n",
    "      weights: weights of convolutional filters (conv_channels x K x K)\n",
    "      channels: which conv channels to plot\n",
    "  \"\"\"\n",
    "  wmax = torch.abs(weights).max()\n",
    "  fig, axs = plt.subplots(1, len(channels), figsize=(12, 2.5))\n",
    "  for i, channel in enumerate(channels):\n",
    "    im = axs[i].imshow(weights[channel, 0], vmin=-wmax, vmax=wmax, cmap='bwr')\n",
    "    axs[i].set_title(f'channel {channel}')\n",
    "\n",
    "    cb_ax = fig.add_axes([1, 0.1, 0.05, 0.8])\n",
    "    plt.colorbar(im, ax=cb_ax)\n",
    "    cb_ax.axis('off')\n",
    "  plt.show()\n",
    "\n",
    "\n",
    "def plot_example_activations(grating, act, channels=[0]):\n",
    "  \"\"\" plot activations act and corresponding grating\n",
    "  Args:\n",
    "    grating: image input to convolutional layer (n x h x w) or (h x w)\n",
    "    act: activations of convolutional layer (n_bins x conv_channels x n_bins)\n",
    "    channels: which conv channels to plot\n",
    "  \"\"\"\n",
    "  if grating.ndim>2:\n",
    "    n_grating = grating.shape[0]\n",
    "  else:\n",
    "    grating = grating.unsqueeze(0)\n",
    "    n_grating = 1\n",
    "\n",
    "  fig, axs = plt.subplots(n_grating, 1 + len(channels), figsize=(12, 12))\n",
    "\n",
    "  # plot grating\n",
    "  for i in range(n_grating):\n",
    "    show_grating(grating[i].squeeze(), ax=axs[i, 0])\n",
    "    axs[i, 0].set_title('grating')\n",
    "\n",
    "    # plot example activations\n",
    "    for k, (channel, ax) in enumerate(zip(channels, axs[i][1:])):\n",
    "      im = ax.imshow(act[i, channel], vmin=-3, vmax=3, cmap='bwr')\n",
    "      ax.set_xlabel('x-pos')\n",
    "      ax.set_ylabel('y-pos')\n",
    "      ax.set_title(f'channel {channel}')\n",
    "\n",
    "    cb_ax = fig.add_axes([1.05, 0.8, 0.01, 0.1])\n",
    "    plt.colorbar(im, cax=cb_ax)\n",
    "    cb_ax.set_title('activation\\n strength')\n",
    "  plt.show()"
   ]
  },
  {
   "cell_type": "code",
   "execution_count": 3,
   "metadata": {},
   "outputs": [],
   "source": [
    "def grating(angle, sf=1 / 28, res=0.1, patch=False):\n",
    "  \"\"\"Generate oriented grating \n",
    "\n",
    "  Args:\n",
    "    angle (float): orientation of grating (angle from vertical), in degrees\n",
    "    sf (float): controls spatial frequency of the grating\n",
    "    res (float): resolution of image. Smaller values will make the image\n",
    "      smaller in terms of pixels. res=1.0 corresponds to 640 x 480 pixels.\n",
    "    patch (boolean): set to True to make the grating a localized\n",
    "      patch on the left side of the image. If False, then the\n",
    "      grating occupies the full image.\n",
    "\n",
    "  Returns:\n",
    "    torch.Tensor: (res * 480) x (res * 640) pixel oriented grating image\n",
    "\n",
    "  \"\"\"\n",
    "\n",
    "  angle = np.deg2rad(angle)  # transform to radians\n",
    "\n",
    "  wpix, hpix = 640, 480  # width and height of image in pixels for res=1.0\n",
    "\n",
    "  xx, yy = np.meshgrid(sf * np.arange(0, wpix * res) / res, sf * np.arange(0, hpix * res) / res)\n",
    "\n",
    "  if patch:\n",
    "    gratings = np.cos(xx * np.cos(angle + .1) + yy * np.sin(angle + .1))  # phase shift to make it better fit within patch\n",
    "    gratings[gratings < 0] = 0\n",
    "    gratings[gratings > 0] = 1\n",
    "    xcent = gratings.shape[1] * .75\n",
    "    ycent = gratings.shape[0] / 2\n",
    "    xxc, yyc = np.meshgrid(np.arange(0, gratings.shape[1]), np.arange(0, gratings.shape[0]))\n",
    "    icirc = ((xxc - xcent) ** 2 + (yyc - ycent) ** 2) ** 0.5 < wpix / 3 / 2 * res\n",
    "    gratings[~icirc] = 0.5\n",
    "\n",
    "  else:\n",
    "    gratings = np.cos(xx * np.cos(angle) + yy * np.sin(angle))\n",
    "    gratings[gratings < 0] = 0\n",
    "    gratings[gratings > 0] = 1\n",
    "\n",
    "  gratings -= 0.5\n",
    "\n",
    "  # Return torch tensor\n",
    "  return torch.tensor(gratings, dtype=torch.float32)"
   ]
  },
  {
   "cell_type": "markdown",
   "metadata": {},
   "source": [
    "## Step 1: Image Processing"
   ]
  },
  {
   "cell_type": "code",
   "execution_count": 4,
   "metadata": {},
   "outputs": [
    {
     "data": {
      "image/png": "[encoded data removed]",
      "text/plain": [
       "<Figure size 1500x300 with 5 Axes>"
      ]
     },
     "metadata": {},
     "output_type": "display_data"
    }
   ],
   "source": [
    "#Execute this cell to plot example grating\n",
    "\n",
    "orientations = np.linspace(-90, 90, 5) # You can play with the orientations\n",
    "\n",
    "h_ = 3\n",
    "n_col = len(orientations)\n",
    "h, w  = grating(0).shape  # height and width of grating\n",
    "\n",
    "fig, axs = plt.subplots(1, n_col, figsize=(h_ * n_col, h_))\n",
    "for i, ori in enumerate(orientations):\n",
    "  grat = grating(ori)\n",
    "  axs[i].set_title(f'{ori: .0f}$^o$')\n",
    "  show_grating(grat, axs[i])\n",
    "fig.suptitle(f'grating size: {h} x {w}')\n",
    "plt.show()"
   ]
  },
  {
   "cell_type": "markdown",
   "metadata": {},
   "source": [
    "Let's implement 2D convolutional operations. We will use multiple convolutional channels and implement this operation efficiently using pytorch. A *layer* of convolutional channels can be implemented with one line of code using the PyTorch class `nn.Conv2d()`, which requires the following arguments for initialization (see full documentation [here](https://pytorch.org/docs/master/generated/torch.nn.Conv2d.html)):\n",
    "  * $C^{in}$: the number of input channels\n",
    "  * $C^{out}$: the number of output channels (number of different convolutional filters)\n",
    "  * $K$: the size of the $C^{out}$ different convolutional filters\n",
    "\n",
    "When you run the network, you can input an image of arbitrary size $(H^{in}, W^{in})$, but it needs to be shaped as a 4D input $(N, C^{in}, H^{in}, W^{in})$, where $N$ is the number of samples. In our case, $C^{in}=1$ because there is only one color channel (our images are grayscale, but often $C^{in}=3$ in image processing)."
   ]
  },
  {
   "cell_type": "code",
   "execution_count": 5,
   "metadata": {},
   "outputs": [],
   "source": [
    "class ConvolutionalLayer(torch.nn.Module):\n",
    "  \"\"\"Deep network with one convolutional layer\n",
    "     Attributes: conv (nn.Conv2d): convolutional layer\n",
    "  \"\"\"\n",
    "  def __init__(self, c_in=1, c_out=2, K=3, filters=None):\n",
    "    \"\"\"Initialize layer\n",
    "\n",
    "    Args:\n",
    "        c_in: number of input image channels\n",
    "        c_out: number of output convolutional channels\n",
    "        K: size of each convolutional filter\n",
    "        filters: (optional) initialize the convolutional weights\n",
    "\n",
    "    \"\"\"\n",
    "    super().__init__()\n",
    "    self.conv = torch.nn.Conv2d(c_in, c_out, kernel_size=K,\n",
    "                          padding=K//2, stride=1)\n",
    "    if filters is not None:\n",
    "      self.conv.weight = torch.nn.Parameter(filters)\n",
    "      self.conv.bias = torch.nn.Parameter(torch.zeros((c_out,), dtype=torch.float32))\n",
    "\n",
    "  def forward(self, s):\n",
    "    \"\"\"Run convolutional layer on images\n",
    "\n",
    "    Args:\n",
    "        s (torch.Tensor): n_samples x c_in x h x w tensor of the images\n",
    "\n",
    "    Returns:\n",
    "        (torch.Tensor): n_samples x c_out x h x w tensor with convolutional layer unit activations.\n",
    "\n",
    "    \"\"\"\n",
    "    a = self.conv(s)  # output of convolutional layer\n",
    "\n",
    "    return a"
   ]
  },
  {
   "cell_type": "markdown",
   "metadata": {},
   "source": [
    "See that `ConvolutionalLayer` takes as input `filters`. We have predesigned some filters that you can use by calling the `filters` function below. These are similar to filters we think are implemented in biological circuits such as the retina and the visual cortex. In general, these filters will be learned in training based on the down-stream task.\n"
   ]
  },
  {
   "cell_type": "code",
   "execution_count": 6,
   "metadata": {},
   "outputs": [],
   "source": [
    "def _filters(out_channels=2):\n",
    "    \"\"\" Create example filters for vertical and horizontal edge detection.\n",
    "    Returns:\n",
    "        filters: out_channels x 1 x K x K (torch tensor)\n",
    "    \"\"\"\n",
    "    # Initialize filters array\n",
    "    filters = np.zeros((2, 3, 3), dtype=np.float32)\n",
    "\n",
    "    # Vertical edge filter\n",
    "    filters[0, :, :] = np.array([[1, 0, -1],\n",
    "                                 [1, 0, -1],\n",
    "                                 [1, 0, -1]])\n",
    "\n",
    "    # Horizontal edge filter\n",
    "    filters[1, :, :] = np.array([[1, 1, 1],\n",
    "                                 [0, 0, 0],\n",
    "                                 [-1, -1, -1]])\n",
    "\n",
    "    # Normalize to range [-1, 1] to maintain consistent intensity\n",
    "    filters /= np.abs(filters).max()\n",
    "\n",
    "    # Convert to torch tensor\n",
    "    filters = torch.from_numpy(filters)\n",
    "\n",
    "    # Add channel dimension (1 in channel)\n",
    "    filters = filters.unsqueeze(1)\n",
    "\n",
    "    return filters"
   ]
  },
  {
   "cell_type": "code",
   "execution_count": 7,
   "metadata": {},
   "outputs": [
    {
     "data": {
      "image/png": "[encoded data removed]",
      "text/plain": [
       "<Figure size 800x400 with 2 Axes>"
      ]
     },
     "metadata": {},
     "output_type": "display_data"
    }
   ],
   "source": [
    "example_filters = _filters(out_channels=2) #torch.Size([2, 1, 3, 3])\n",
    "\n",
    "plt.figure(figsize=(8,4))\n",
    "plt.subplot(1,2,1)\n",
    "plt.imshow(example_filters[0,0], vmin=-1, vmax=1, cmap = 'viridis')\n",
    "plt.title('Vertical filter')\n",
    "plt.axis('off')\n",
    "plt.subplot(1,2,2)\n",
    "plt.imshow(example_filters[1,0], vmin=-1, vmax=1, cmap = 'viridis')\n",
    "plt.title('Horizontal filter')\n",
    "plt.axis('off')\n",
    "plt.show()"
   ]
  },
  {
   "cell_type": "markdown",
   "metadata": {},
   "source": [
    "### Coding Exercise 1: 2D convolution in PyTorch\n",
    "\n",
    "We will now run the convolutional layer on our grating. We will use gratings made using the function `grating`, which returns a iamge which is 48 x 64.\n",
    "\n",
    "Reminder, `nn.Conv2d` takes in a tensor of size $(N, C^{in}, H^{in}, W^{in}$) where $N$ is the number of samples, $C^{in}$ is the number of input channels, and $(H^{in}, W^{in})$ is the size of the grating. We will need to add these first two dimensions to our samples, then input it to the convolutional layer.\n",
    "\n",
    "We will plot the outputs of the convolution. `convout` is a tensor of size $(N, C^{out}, H^{in}, W^{in})$ where $N$ is the number of examples and $C^{out}$ are the number of convolutional channels. It is the same size as the input because we used a stride of 1 and padding that is half the kernel size."
   ]
  },
  {
   "cell_type": "code",
   "execution_count": 8,
   "metadata": {},
   "outputs": [
    {
     "data": {
      "image/png": "[encoded data removed]",
      "text/plain": [
       "<Figure size 1200x1200 with 12 Axes>"
      ]
     },
     "metadata": {},
     "output_type": "display_data"
    }
   ],
   "source": [
    "# Grating image parameters\n",
    "in_channels = 1  # how many input channels in our images\n",
    "h = 48  # height of images\n",
    "w = 64  # width of images\n",
    "\n",
    "# Convolution layer parameters\n",
    "K = 2  # filter size \n",
    "out_channels = 2  # how many convolutional channels to have in our layer\n",
    "example_filters = _filters(out_channels)  # create filters to use\n",
    "\n",
    "convout = np.zeros(0)  # initizalize convolutional activations to convout\n",
    "\n",
    "# TODO: Initialize conv layer and add weights from function filters\n",
    "# you need to specify :\n",
    "# * the number of input channels c_in\n",
    "# * the number of output channels c_out\n",
    "# * the filter size K\n",
    "convLayer = ConvolutionalLayer(..., filters=example_filters)\n",
    "\n",
    "# Create grating image (H_in, W_in)\n",
    "orientations = [90, 0, 45]\n",
    "grats = torch.zeros((len(orientations), in_channels, h, w), dtype=torch.float32)\n",
    "for i,ori in enumerate(orientations):\n",
    "  grats[i, 0] = grating(ori, sf=1 / 28, res=0.1)\n",
    "\n",
    "#TODO: apply the convLayer to the grating data \n",
    "convout = convLayer(...)\n",
    "convout = convout.detach()  # detach gradients\n",
    "\n",
    "\n",
    "plot_example_activations(grats, convout, channels=np.arange(0, out_channels))"
   ]
  },
  {
   "cell_type": "markdown",
   "metadata": {},
   "source": [
    "Let's think about why the activations look the way they do:\n",
    "The vertical edge filter is designed with weights that amplify changes in pixel intensity that occur from left to right across an image. The filter consists of positive weights on one side and negative weights on the other, creating a high response when there is a clear, vertical transition in pixel brightness. This makes the filter sensitive to vertical lines where there's a strong contrast, such as from white to black or black to white.\n",
    "The sign of the activation depends on the direction of the luminance gradient. If the transition is from light (white) to dark (black) from left to right, the activation will be positive. Conversely, if the transition is from dark to light from left to right, the activation will be negative. This property allows the filter to not only detect the presence of a vertical edge but also infer the direction of the edge gradient."
   ]
  },
  {
   "cell_type": "markdown",
   "metadata": {},
   "source": [
    "## Part 2: Training a CNN on MNIST"
   ]
  },
  {
   "cell_type": "markdown",
   "metadata": {},
   "source": [
    "## Create MNIST Dataset\n",
    "Following the previous notebook, let's create train and test dataset and dataloader"
   ]
  },
  {
   "cell_type": "code",
   "execution_count": 2,
   "metadata": {},
   "outputs": [],
   "source": [
    "from torchvision import datasets, transforms\n",
    "# Data file download directory\n",
    "LOCAL_DATA_DIR = './mnist-data'\n",
    "# Use prepared data handler from pytorch (torchvision)\n",
    "train_dataset = datasets.MNIST(LOCAL_DATA_DIR, train=True, download=True,\n",
    "                         transform=transforms.Compose([transforms.ToTensor()]))\n",
    "\n",
    "train_loader = torch.utils.data.DataLoader(train_dataset,\n",
    "                                           batch_size=32,\n",
    "                                           shuffle=True,\n",
    "                                           num_workers=4)\n",
    "\n",
    "# Use prepared data handler from pytorch (torchvision)\n",
    "test_dataset = datasets.MNIST(LOCAL_DATA_DIR, train=False, download=True,\n",
    "                              transform=transforms.Compose([transforms.ToTensor()]))\n",
    "\n",
    "test_loader = torch.utils.data.DataLoader(test_dataset,\n",
    "                                          batch_size=32,\n",
    "                                          shuffle=False,\n",
    "                                          num_workers=4)"
   ]
  },
  {
   "cell_type": "markdown",
   "metadata": {},
   "source": [
    "### Define train and test functions"
   ]
  },
  {
   "cell_type": "code",
   "execution_count": 3,
   "metadata": {},
   "outputs": [],
   "source": [
    "from ipywidgets import IntProgress\n",
    "from IPython.display import display\n",
    "from torch.utils.tensorboard import SummaryWriter\n",
    "import time\n",
    "\n",
    "def run_train(model, loader,  \n",
    "              num_iterations=100, log_dir='log',\n",
    "              lr=0.001, optimizer='SGD', device=None):\n",
    "    print(\"\\nTraining...\")\n",
    "    tstart = time.time()\n",
    "    if log_dir:\n",
    "        writer = SummaryWriter(log_dir=log_dir)\n",
    "    criterion = torch.nn.CrossEntropyLoss()\n",
    "    optimizer = getattr(torch.optim,optimizer)(model.parameters(),lr=lr)\n",
    "    f = IntProgress(min=0,max=int(num_iterations/100),bar_style='info')\n",
    "    display(f)\n",
    "    \n",
    "    iteration = 0\n",
    "    while iteration < num_iterations:\n",
    "        for data,label in loader:\n",
    "            \n",
    "            if device:\n",
    "                data,label = data.to(device),label.to(device)\n",
    "\n",
    "            loss = criterion(model(data), label)\n",
    "            optimizer.zero_grad()\n",
    "            loss.backward()\n",
    "            optimizer.step()\n",
    "            \n",
    "            if log_dir: \n",
    "                writer.add_scalar('loss/train', loss.item(), iteration)\n",
    "            if iteration%100 == 0:\n",
    "                f.value += 1\n",
    "            # Brake if we consumed all iteration counts\n",
    "            iteration += 1\n",
    "            if iteration >= num_iterations:\n",
    "                break\n",
    "    print('done',time.time()-tstart,'[s]')\n",
    "\n",
    "def run_test(model,loader,device=None):\n",
    "\n",
    "    label_v, softmax_v = [],[]\n",
    "    softmax = torch.nn.Softmax(dim=1)\n",
    "    f = IntProgress(min=0,max=int(len(loader)),bar_style='info')\n",
    "    display(f)\n",
    "    \n",
    "    with torch.set_grad_enabled(False):\n",
    "        for data,label in loader:\n",
    "            if device:\n",
    "                data,label = data.to(device), label.to(device)\n",
    "            label_v.append  ( label.detach().reshape(-1)   )\n",
    "            softmax_v.append( softmax(model(data)).detach())\n",
    "            f.value += 1\n",
    "    return torch.concat(label_v).cpu().numpy(), torch.concat(softmax_v).cpu().numpy()\n"
   ]
  },
  {
   "cell_type": "markdown",
   "metadata": {},
   "source": [
    "## Logistic regression with CNN\n",
    "\n",
    "we design CNN to try the same task. Let's define 3 convolution layers followed by LeakyReLU for activation and MaxPool2d for downsampling."
   ]
  },
  {
   "cell_type": "code",
   "execution_count": 4,
   "metadata": {},
   "outputs": [],
   "source": [
    "class CNN(torch.nn.Module):\n",
    "    def __init__(self,num_filters=16):\n",
    "        \n",
    "        super(CNN, self).__init__()\n",
    "        # feature extractor CNN\n",
    "        self._feature_extractor = torch.nn.Sequential(\n",
    "            torch.nn.Conv2d(1,num_filters,3,padding=1),\n",
    "            torch.nn.LeakyReLU(),\n",
    "            torch.nn.MaxPool2d(2,2),\n",
    "            torch.nn.Conv2d(num_filters,num_filters*2,3,padding=1),\n",
    "            torch.nn.LeakyReLU(),\n",
    "            torch.nn.MaxPool2d(2,2),\n",
    "            torch.nn.Conv2d(num_filters*2,num_filters*4,3,padding=1),\n",
    "            torch.nn.LeakyReLU(),\n",
    "            torch.nn.MaxPool2d(7,7))\n",
    "        # classifier MLP\n",
    "        self._classifier = torch.nn.Linear(num_filters*4,10)\n",
    "\n",
    "    def forward(self, x):\n",
    "        # extract features\n",
    "        features = self._feature_extractor(x)\n",
    "        # flatten the 3d tensor (2d space x channels = features)\n",
    "        features = features.view(-1, np.prod(features.size()[1:]))\n",
    "        # classify and return\n",
    "        return self._classifier(features)"
   ]
  },
  {
   "cell_type": "markdown",
   "metadata": {},
   "source": [
    "### Exercise 1\n",
    "\n",
    "Now let's train this CNN model!\n",
    "\n",
    "1. Train CNN for 4000 iterations with `Adam` optimizer on CPU, measure the time taken in wall-clock, plot the loss.\n",
    "2. Do the same but using GPU.\n"
   ]
  },
  {
   "cell_type": "code",
   "execution_count": null,
   "metadata": {},
   "outputs": [],
   "source": []
  },
  {
   "cell_type": "markdown",
   "metadata": {},
   "source": [
    "You should see that, this time, GPU gave a good speed-up. This is because CNN takes many separate multiplications of weights with input local matrix, and that can benefit from parallelization = GPU is suited."
   ]
  },
  {
   "cell_type": "code",
   "execution_count": null,
   "metadata": {},
   "outputs": [],
   "source": [
    "%load_ext tensorboard\n",
    "\n",
    "%tensorboard --logdir mnist_cnn"
   ]
  },
  {
   "cell_type": "markdown",
   "metadata": {},
   "source": [
    "### Exercise 2\n",
    "\n",
    "Run the inference on the test dataset. Compute the accuracy over the all images in the test dataset."
   ]
  },
  {
   "cell_type": "code",
   "execution_count": null,
   "metadata": {},
   "outputs": [],
   "source": []
  },
  {
   "cell_type": "markdown",
   "metadata": {},
   "source": [
    "Plot a bar chart of class probabilities for a single sample from model output\n",
    "`torch.nn.functional.softmax(...)`: Apply the softmax function to convert logits into probabilities.\n",
    "use `plt.vlines(...)` to draw a line for the true label\n",
    "you can use `plt.semilogy()` to have a log-scale y-axis"
   ]
  },
  {
   "cell_type": "code",
   "execution_count": null,
   "metadata": {},
   "outputs": [],
   "source": []
  },
  {
   "cell_type": "code",
   "execution_count": null,
   "metadata": {},
   "outputs": [],
   "source": []
  },
  {
   "cell_type": "markdown",
   "metadata": {},
   "source": [
    "### Exercise 3\n",
    "How many parameters are there in our CNN model?"
   ]
  },
  {
   "cell_type": "code",
   "execution_count": null,
   "metadata": {},
   "outputs": [],
   "source": []
  },
  {
   "cell_type": "code",
   "execution_count": null,
   "metadata": {},
   "outputs": [],
   "source": []
  },
  {
   "cell_type": "code",
   "execution_count": null,
   "metadata": {},
   "outputs": [],
   "source": []
  }
 ],
 "metadata": {
  "kernelspec": {
   "display_name": "Python 3 (ipykernel)",
   "language": "python",
   "name": "python3"
  },
  "language_info": {
   "codemirror_mode": {
    "name": "ipython",
    "version": 3
   },
   "file_extension": ".py",
   "mimetype": "text/x-python",
   "name": "python",
   "nbconvert_exporter": "python",
   "pygments_lexer": "ipython3",
   "version": "3.9.18"
  }
 },
 "nbformat": 4,
 "nbformat_minor": 4
}
