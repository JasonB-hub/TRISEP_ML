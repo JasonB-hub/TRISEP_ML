{
 "cells": [
  {
   "cell_type": "markdown",
   "id": "08b942b0-fb39-4360-9ee3-1c919481b0c7",
   "metadata": {},
   "source": [
    "<a href=\"https://colab.research.google.com/github/makagan/TRISEP_Tutorial/blob/main/Exercises/3.2.CNN-MNIST-SOLN.ipynb\" target=\"_parent\"><img src=\"https://colab.research.google.com/assets/colab-badge.svg\" alt=\"Open In Colab\"/></a>"
   ]
  },
  {
   "cell_type": "markdown",
   "id": "10423598-81b3-4284-927b-e18ab448590b",
   "metadata": {},
   "source": [
    "# Convolutional Neural Networks\n",
    "\n",
    "Adapted from [notebooks](https://github.com/odsl-team/block-course-apr24-ML/tree/main/Exercises) developed by Baran Hashemi"
   ]
  },
  {
   "cell_type": "markdown",
   "id": "b6b73e69-d8a9-4436-81d4-ff1411b65687",
   "metadata": {},
   "source": [
    "## Part 1: Understanding Convlutions"
   ]
  },
  {
   "cell_type": "markdown",
   "id": "328a0f38",
   "metadata": {},
   "source": [
    "## Step 0: Some import and later required functions"
   ]
  },
  {
   "cell_type": "code",
   "execution_count": 2,
   "id": "4ef79293",
   "metadata": {},
   "outputs": [],
   "source": [
    "# Imports\n",
    "import os\n",
    "import numpy as np\n",
    "import torch\n",
    "from torch import nn\n",
    "from torch import optim\n",
    "from matplotlib import pyplot as plt\n",
    "import matplotlib as mpl"
   ]
  },
  {
   "cell_type": "code",
   "execution_count": 3,
   "id": "239f54ad",
   "metadata": {},
   "outputs": [],
   "source": [
    "# Some Plotting Functions\n",
    "\n",
    "def show_grating(img, ax=None, show=False):\n",
    "  \"\"\"Visualize a grating\"\"\"\n",
    "  if ax is None:\n",
    "    ax = plt.gca()\n",
    "  ax.imshow(img+0.5, cmap=mpl.cm.binary)\n",
    "  ax.set_xticks([])\n",
    "  ax.set_yticks([])\n",
    "  ax.spines['left'].set_visible(False)\n",
    "  ax.spines['bottom'].set_visible(False)\n",
    "  if show:\n",
    "    plt.show()\n",
    "\n",
    "\n",
    "def plot_weights(weights, channels=[0]):\n",
    "  \"\"\" plot convolutional channel weights\n",
    "  Args:\n",
    "      weights: weights of convolutional filters (conv_channels x K x K)\n",
    "      channels: which conv channels to plot\n",
    "  \"\"\"\n",
    "  wmax = torch.abs(weights).max()\n",
    "  fig, axs = plt.subplots(1, len(channels), figsize=(12, 2.5))\n",
    "  for i, channel in enumerate(channels):\n",
    "    im = axs[i].imshow(weights[channel, 0], vmin=-wmax, vmax=wmax, cmap='bwr')\n",
    "    axs[i].set_title(f'channel {channel}')\n",
    "\n",
    "    cb_ax = fig.add_axes([1, 0.1, 0.05, 0.8])\n",
    "    plt.colorbar(im, ax=cb_ax)\n",
    "    cb_ax.axis('off')\n",
    "  plt.show()\n",
    "\n",
    "\n",
    "def plot_example_activations(grating, act, channels=[0]):\n",
    "  \"\"\" plot activations act and corresponding grating\n",
    "  Args:\n",
    "    grating: image input to convolutional layer (n x h x w) or (h x w)\n",
    "    act: activations of convolutional layer (n_bins x conv_channels x n_bins)\n",
    "    channels: which conv channels to plot\n",
    "  \"\"\"\n",
    "  if grating.ndim>2:\n",
    "    n_grating = grating.shape[0]\n",
    "  else:\n",
    "    grating = grating.unsqueeze(0)\n",
    "    n_grating = 1\n",
    "\n",
    "  fig, axs = plt.subplots(n_grating, 1 + len(channels), figsize=(12, 12))\n",
    "\n",
    "  # plot grating\n",
    "  for i in range(n_grating):\n",
    "    show_grating(grating[i].squeeze(), ax=axs[i, 0])\n",
    "    axs[i, 0].set_title('grating')\n",
    "\n",
    "    # plot example activations\n",
    "    for k, (channel, ax) in enumerate(zip(channels, axs[i][1:])):\n",
    "      im = ax.imshow(act[i, channel], vmin=-3, vmax=3, cmap='bwr')\n",
    "      ax.set_xlabel('x-pos')\n",
    "      ax.set_ylabel('y-pos')\n",
    "      ax.set_title(f'channel {channel}')\n",
    "\n",
    "    cb_ax = fig.add_axes([1.05, 0.8, 0.01, 0.1])\n",
    "    plt.colorbar(im, cax=cb_ax)\n",
    "    cb_ax.set_title('activation\\n strength')\n",
    "  plt.show()"
   ]
  },
  {
   "cell_type": "code",
   "execution_count": 4,
   "id": "f9c6bc9f",
   "metadata": {},
   "outputs": [],
   "source": [
    "def grating(angle, sf=1 / 28, res=0.1, patch=False):\n",
    "  \"\"\"Generate oriented grating \n",
    "\n",
    "  Args:\n",
    "    angle (float): orientation of grating (angle from vertical), in degrees\n",
    "    sf (float): controls spatial frequency of the grating\n",
    "    res (float): resolution of image. Smaller values will make the image\n",
    "      smaller in terms of pixels. res=1.0 corresponds to 640 x 480 pixels.\n",
    "    patch (boolean): set to True to make the grating a localized\n",
    "      patch on the left side of the image. If False, then the\n",
    "      grating occupies the full image.\n",
    "\n",
    "  Returns:\n",
    "    torch.Tensor: (res * 480) x (res * 640) pixel oriented grating image\n",
    "\n",
    "  \"\"\"\n",
    "\n",
    "  angle = np.deg2rad(angle)  # transform to radians\n",
    "\n",
    "  wpix, hpix = 640, 480  # width and height of image in pixels for res=1.0\n",
    "\n",
    "  xx, yy = np.meshgrid(sf * np.arange(0, wpix * res) / res, sf * np.arange(0, hpix * res) / res)\n",
    "\n",
    "  if patch:\n",
    "    gratings = np.cos(xx * np.cos(angle + .1) + yy * np.sin(angle + .1))  # phase shift to make it better fit within patch\n",
    "    gratings[gratings < 0] = 0\n",
    "    gratings[gratings > 0] = 1\n",
    "    xcent = gratings.shape[1] * .75\n",
    "    ycent = gratings.shape[0] / 2\n",
    "    xxc, yyc = np.meshgrid(np.arange(0, gratings.shape[1]), np.arange(0, gratings.shape[0]))\n",
    "    icirc = ((xxc - xcent) ** 2 + (yyc - ycent) ** 2) ** 0.5 < wpix / 3 / 2 * res\n",
    "    gratings[~icirc] = 0.5\n",
    "\n",
    "  else:\n",
    "    gratings = np.cos(xx * np.cos(angle) + yy * np.sin(angle))\n",
    "    gratings[gratings < 0] = 0\n",
    "    gratings[gratings > 0] = 1\n",
    "\n",
    "  gratings -= 0.5\n",
    "\n",
    "  # Return torch tensor\n",
    "  return torch.tensor(gratings, dtype=torch.float32)"
   ]
  },
  {
   "cell_type": "markdown",
   "id": "73e856d6",
   "metadata": {},
   "source": [
    "## Step 1: Image Processing"
   ]
  },
  {
   "cell_type": "code",
   "execution_count": 5,
   "id": "9cb0b9ac",
   "metadata": {},
   "outputs": [
    {
     "data": {
      "image/png": "[encoded data removed]",
      "text/plain": [
       "<Figure size 1500x300 with 5 Axes>"
      ]
     },
     "metadata": {},
     "output_type": "display_data"
    }
   ],
   "source": [
    "#Execute this cell to plot example grating\n",
    "\n",
    "orientations = np.linspace(-90, 90, 5) # You can play with the orientations\n",
    "\n",
    "h_ = 3\n",
    "n_col = len(orientations)\n",
    "h, w  = grating(0).shape  # height and width of grating\n",
    "\n",
    "fig, axs = plt.subplots(1, n_col, figsize=(h_ * n_col, h_))\n",
    "for i, ori in enumerate(orientations):\n",
    "  grat = grating(ori)\n",
    "  axs[i].set_title(f'{ori: .0f}$^o$')\n",
    "  show_grating(grat, axs[i])\n",
    "fig.suptitle(f'grating size: {h} x {w}')\n",
    "plt.show()"
   ]
  },
  {
   "cell_type": "markdown",
   "id": "efb35c3c",
   "metadata": {},
   "source": [
    "Let's implement 2D convolutional operations. We will use multiple convolutional channels and implement this operation efficiently using pytorch. A *layer* of convolutional channels can be implemented with one line of code using the PyTorch class `nn.Conv2d()`, which requires the following arguments for initialization (see full documentation [here](https://pytorch.org/docs/master/generated/torch.nn.Conv2d.html)):\n",
    "  * $C^{in}$: the number of input channels\n",
    "  * $C^{out}$: the number of output channels (number of different convolutional filters)\n",
    "  * $K$: the size of the $C^{out}$ different convolutional filters\n",
    "\n",
    "When you run the network, you can input an image of arbitrary size $(H^{in}, W^{in})$, but it needs to be shaped as a 4D input $(N, C^{in}, H^{in}, W^{in})$, where $N$ is the number of samples. In our case, $C^{in}=1$ because there is only one color channel (our images are grayscale, but often $C^{in}=3$ in image processing)."
   ]
  },
  {
   "cell_type": "code",
   "execution_count": 6,
   "id": "3db983aa",
   "metadata": {},
   "outputs": [],
   "source": [
    "class ConvolutionalLayer(nn.Module):\n",
    "  \"\"\"Deep network with one convolutional layer\n",
    "     Attributes: conv (nn.Conv2d): convolutional layer\n",
    "  \"\"\"\n",
    "  def __init__(self, c_in=1, c_out=2, K=3, filters=None):\n",
    "    \"\"\"Initialize layer\n",
    "\n",
    "    Args:\n",
    "        c_in: number of input image channels\n",
    "        c_out: number of output convolutional channels\n",
    "        K: size of each convolutional filter\n",
    "        filters: (optional) initialize the convolutional weights\n",
    "\n",
    "    \"\"\"\n",
    "    super().__init__()\n",
    "    self.conv = nn.Conv2d(c_in, c_out, kernel_size=K,\n",
    "                          padding=K//2, stride=1)\n",
    "    if filters is not None:\n",
    "      self.conv.weight = nn.Parameter(filters)\n",
    "      self.conv.bias = nn.Parameter(torch.zeros((c_out,), dtype=torch.float32))\n",
    "\n",
    "  def forward(self, s):\n",
    "    \"\"\"Run convolutional layer on images\n",
    "\n",
    "    Args:\n",
    "        s (torch.Tensor): n_samples x c_in x h x w tensor of the images\n",
    "\n",
    "    Returns:\n",
    "        (torch.Tensor): n_samples x c_out x h x w tensor with convolutional layer unit activations.\n",
    "\n",
    "    \"\"\"\n",
    "    a = self.conv(s)  # output of convolutional layer\n",
    "\n",
    "    return a"
   ]
  },
  {
   "cell_type": "markdown",
   "id": "e4babe69",
   "metadata": {},
   "source": [
    "See that `ConvolutionalLayer` takes as input `filters`. We have predesigned some filters that you can use by calling the `filters` function below. These are similar to filters we think are implemented in biological circuits such as the retina and the visual cortex. In general, these filters will be learned in training based on the down-stream task.\n",
    "\n"
   ]
  },
  {
   "cell_type": "code",
   "execution_count": 7,
   "id": "a6c9b926",
   "metadata": {},
   "outputs": [],
   "source": [
    "def _filters(out_channels=2):\n",
    "    \"\"\" Create example filters for vertical and horizontal edge detection.\n",
    "    Returns:\n",
    "        filters: out_channels x 1 x K x K (torch tensor)\n",
    "    \"\"\"\n",
    "    # Initialize filters array\n",
    "    filters = np.zeros((2, 3, 3), dtype=np.float32)\n",
    "\n",
    "    # Vertical edge filter\n",
    "    filters[0, :, :] = np.array([[1, 0, -1],\n",
    "                                 [1, 0, -1],\n",
    "                                 [1, 0, -1]])\n",
    "\n",
    "    # Horizontal edge filter\n",
    "    filters[1, :, :] = np.array([[1, 1, 1],\n",
    "                                 [0, 0, 0],\n",
    "                                 [-1, -1, -1]])\n",
    "\n",
    "    # Normalize to range [-1, 1] to maintain consistent intensity\n",
    "    filters /= np.abs(filters).max()\n",
    "\n",
    "    # Convert to torch tensor\n",
    "    filters = torch.from_numpy(filters)\n",
    "\n",
    "    # Add channel dimension (1 in channel)\n",
    "    filters = filters.unsqueeze(1)\n",
    "\n",
    "    return filters"
   ]
  },
  {
   "cell_type": "code",
   "execution_count": 8,
   "id": "bf9ed460",
   "metadata": {
    "scrolled": true
   },
   "outputs": [
    {
     "data": {
      "image/png": "[encoded data removed]",
      "text/plain": [
       "<Figure size 800x400 with 2 Axes>"
      ]
     },
     "metadata": {},
     "output_type": "display_data"
    }
   ],
   "source": [
    "example_filters = _filters(out_channels=2) #torch.Size([2, 1, 3, 3])\n",
    "\n",
    "plt.figure(figsize=(8,4))\n",
    "plt.subplot(1,2,1)\n",
    "plt.imshow(example_filters[0,0], vmin=-1, vmax=1, cmap = 'viridis')\n",
    "plt.title('Vertical filter')\n",
    "plt.axis('off')\n",
    "plt.subplot(1,2,2)\n",
    "plt.imshow(example_filters[1,0], vmin=-1, vmax=1, cmap = 'viridis')\n",
    "plt.title('Horizontal filter')\n",
    "plt.axis('off')\n",
    "plt.show()"
   ]
  },
  {
   "cell_type": "markdown",
   "id": "a2be4dcc",
   "metadata": {},
   "source": [
    "### Coding Exercise 1: 2D convolution in PyTorch\n",
    "\n",
    "We will now run the convolutional layer on our grating. We will use gratings made using the function `grating`, which returns a iamge which is 48 x 64.\n",
    "\n",
    "Reminder, `nn.Conv2d` takes in a tensor of size $(N, C^{in}, H^{in}, W^{in}$) where $N$ is the number of samples, $C^{in}$ is the number of input channels, and $(H^{in}, W^{in})$ is the size of the grating. We will need to add these first two dimensions to our samples, then input it to the convolutional layer.\n",
    "\n",
    "We will plot the outputs of the convolution. `convout` is a tensor of size $(N, C^{out}, H^{in}, W^{in})$ where $N$ is the number of examples and $C^{out}$ are the number of convolutional channels. It is the same size as the input because we used a stride of 1 and padding that is half the kernel size.\n"
   ]
  },
  {
   "cell_type": "code",
   "execution_count": 9,
   "id": "53b5341e",
   "metadata": {},
   "outputs": [
    {
     "data": {
      "image/png": "[encoded data removed]",
      "text/plain": [
       "<Figure size 1200x1200 with 12 Axes>"
      ]
     },
     "metadata": {},
     "output_type": "display_data"
    }
   ],
   "source": [
    "# Grating image parameters\n",
    "in_channels = 1  # how many input channels in our images\n",
    "h = 48  # height of images\n",
    "w = 64  # width of images\n",
    "\n",
    "# Convolution layer parameters\n",
    "K = 2  # filter size \n",
    "out_channels = 2  # how many convolutional channels to have in our layer\n",
    "example_filters = _filters(out_channels)  # create filters to use\n",
    "\n",
    "convout = np.zeros(0)  # initizalize convolutional activations to convout\n",
    "\n",
    "# TODO: Initialize conv layer and add weights from function filters\n",
    "# you need to specify :\n",
    "# * the number of input channels c_in\n",
    "# * the number of output channels c_out\n",
    "# * the filter size K\n",
    "convLayer = ConvolutionalLayer(in_channels, out_channels, K, filters=example_filters)\n",
    "\n",
    "# Create grating image (H_in, W_in)\n",
    "orientations = [90, 0, 45]\n",
    "grats = torch.zeros((len(orientations), in_channels, h, w), dtype=torch.float32)\n",
    "for i,ori in enumerate(orientations):\n",
    "  grats[i, 0] = grating(ori, sf=1 / 28, res=0.1)\n",
    "\n",
    "#TODO: apply the convLayer to the grating data \n",
    "convout = convLayer(grats)\n",
    "convout = convout.detach()  # detach gradients\n",
    "\n",
    "\n",
    "plot_example_activations(grats, convout, channels=np.arange(0, out_channels))"
   ]
  },
  {
   "cell_type": "markdown",
   "id": "b29f87b3",
   "metadata": {},
   "source": [
    "Let's think about why the activations look the way they do:\n",
    "The vertical edge filter is designed with weights that amplify changes in pixel intensity that occur from left to right across an image. The filter consists of positive weights on one side and negative weights on the other, creating a high response when there is a clear, vertical transition in pixel brightness. This makes the filter sensitive to vertical lines where there's a strong contrast, such as from white to black or black to white.\n",
    "The sign of the activation depends on the direction of the luminance gradient. If the transition is from light (white) to dark (black) from left to right, the activation will be positive. Conversely, if the transition is from dark to light from left to right, the activation will be negative. This property allows the filter to not only detect the presence of a vertical edge but also infer the direction of the edge gradient."
   ]
  },
  {
   "cell_type": "markdown",
   "id": "b5a588d3",
   "metadata": {},
   "source": [
    "## Part 2\n",
    "\n",
    "## Step 0: install the dataset"
   ]
  },
  {
   "cell_type": "markdown",
   "id": "fd188747",
   "metadata": {},
   "source": [
    "The \"Hello World\" of convolutional neural networks are MNIST images. You can get the training data by running the following command in pip"
   ]
  },
  {
   "cell_type": "code",
   "execution_count": 115,
   "id": "67b32ed6",
   "metadata": {},
   "outputs": [
    {
     "name": "stdout",
     "output_type": "stream",
     "text": [
      "Collecting mnist\n",
      "  Downloading mnist-0.2.2-py2.py3-none-any.whl (3.5 kB)\n",
      "Requirement already satisfied: numpy in /Users/Psychology/anaconda3/lib/python3.7/site-packages (from mnist) (1.18.1)\n",
      "Installing collected packages: mnist\n",
      "Successfully installed mnist-0.2.2\n"
     ]
    }
   ],
   "source": [
    "import sys\n",
    "IN_COLAB = 'google.colab' in sys.modules\n",
    "print(\"Running in Google Colab = \", IN_COLAB)\n",
    "\n",
    "if not IN_COLAB:\n",
    "    # when running locally\n",
    "    X = np.load('mnist.npz')['x_train']\n",
    "    y = np.load('mnist.npz')['y_train']\n",
    "\n",
    "else:\n",
    "    # when running on Colab\n",
    "    from torchvision import datasets, transforms\n",
    "    # Data file download directory\n",
    "    LOCAL_DATA_DIR = './mnist-data'\n",
    "    # Use prepared data handler from pytorch (torchvision)\n",
    "    dataset = datasets.MNIST(LOCAL_DATA_DIR, train=True, download=True,\n",
    "                             transform=transforms.Compose([transforms.ToTensor()]))\n",
    "\n",
    "\n",
    "    from torch.utils.data import DataLoader\n",
    "    from torch import reshape\n",
    "    train_dataloader = DataLoader(dataset, batch_size=len(dataset), shuffle=False)\n",
    "\n",
    "    _X, _y = next(iter(train_dataloader))\n",
    "\n",
    "    # dataset already normalized by 255 in Torch, undoing so we can explore ourselves\n",
    "    X = reshape(255*_X, (len(dataset), 28, 28)).numpy()\n",
    "    y = _y.numpy()"
   ]
  },
  {
   "cell_type": "markdown",
   "id": "f7823988",
   "metadata": {},
   "source": [
    "## Step 1: Data Preparation in PyTorch\n",
    "\n",
    "The MNIST dataset is a collection of handwritten digits commonly used for training and testing in the field of machine learning. We want to normalize data and create randomized batches for training and evaluation. It consists of 60,000 images for training and 10,000 images for testing. Each image is 28*28 pixels.\n"
   ]
  },
  {
   "cell_type": "code",
   "execution_count": 118,
   "id": "f8ed610e",
   "metadata": {},
   "outputs": [],
   "source": [
    "import mnist\n",
    "\n",
    "# Load the labels for the training and test datasets.\n",
    "train_labels = mnist.train_labels()\n",
    "test_labels = mnist.test_labels()\n",
    "\n",
    "# Calculate the mean and standard deviation of the training images.\n",
    "scale_mean, scale_std = mnist.train_images().mean(), mnist.train_images().std()\n",
    "\n",
    "# Standardize the training and test images by subtracting the mean and dividing by the standard deviation.\n",
    "train_images = (mnist.train_images() - scale_mean) / scale_std\n",
    "test_images = (mnist.test_images() - scale_mean) / scale_std"
   ]
  },
  {
   "cell_type": "code",
   "execution_count": 119,
   "id": "d3bdc5e7",
   "metadata": {},
   "outputs": [],
   "source": [
    "def make_batch(N=300, collection='train'):\n",
    "    # Select the correct sub-dataset based on the 'collection' flag.\n",
    "    images = train_images if collection == 'train' else test_images\n",
    "    labels = train_labels if collection == 'train' else test_labels\n",
    "    \n",
    "    # Randomly sample N indices from the image dataset.\n",
    "    indices = np.random.choice(np.arange(len(images)), size=(N,), replace=True)\n",
    "    \n",
    "    # Gather the images and labels corresponding to the sampled indices.\n",
    "    X = images[indices]\n",
    "    y = labels[indices]\n",
    "    \n",
    "    # Convert the sampled image data and labels into PyTorch tensors.\n",
    "    return torch.FloatTensor(X[:, None]), torch.LongTensor(y)\n"
   ]
  },
  {
   "cell_type": "markdown",
   "id": "26d5f871",
   "metadata": {},
   "source": [
    "## Step 2: Building a Convolutional Neural Network with PyTorch\n",
    "\n",
    "In this part of the tutorial, we will create a simple Convolutional Neural Network (CNN) using PyTorch's modular `nn` library. \n",
    "\n",
    "### Tasks\n",
    "\n",
    "#### 1. Construct the CNN\n",
    "Define a CNN according to the following specifications:\n",
    "- **First Layer**: A convolutional layer with a 5x5 kernel that expands the input from 1 channel to 16 channels, followed by a ReLU activation function, and a 2x2 max-pooling layer.\n",
    "- **Second Layer**: A convolutional layer with a 3x3 kernel keeping the channel size at 16, followed by a ReLU activation function, and another 2x2 max-pooling layer.\n",
    "- **Third Layer**: A convolutional layer with a 2x2 kernel that increases the channel size from 16 to 32. This layer is followed by a ReLU but does not have a pooling layer.\n",
    "\n",
    "#### 2. Analyze Dimensions\n",
    "Create a random MNIST-like input tensor `x` with dimensions (bs, 1, 28, 28) where bs is the batch size:\n",
    "```python\n",
    "x = torch.randn(bs, 1, 28, 28)\n",
    "```\n",
    "Feed this tensor through your network and print the output dimensions after each layer. This will help you understand how image dimensions change as they pass through convolutions and pooling layers.\n",
    "\n",
    "#### 3. Flatten the Output\n",
    "Use `torch.nn.Flatten` to flatten the output from the last convolutional layer into a single vector per image in the batch. Document the size of this flattened vector. This size is critical as it will determine the input dimension of your final fully connected layer.\n",
    "\n",
    "#### 4. Complete the Network with a Classification Head\n",
    "Finish your network by adding a fully connected layer that maps the flattened output to 10 classes (representing the digits 0 through 9). Assume the output from the flatten operation is `N`:\n",
    "```python\n",
    "nn.Linear(N, 10)\n",
    "```\n",
    "This layer will serve as the head of your network that predicts the class probabilities.\n",
    "\n",
    "\n",
    "### Hints\n",
    "- Use the PyTorch documentation to ensure your layer parameters are set correctly.\n",
    "- Be mindful of the batch size when interpreting the dimensions of outputs throughout the network."
   ]
  },
  {
   "cell_type": "code",
   "execution_count": null,
   "id": "ebaf02cf",
   "metadata": {},
   "outputs": [],
   "source": [
    "class MyCNN(nn.Module):\n",
    "    def __init__(self):\n",
    "        super(MyCNN, self).__init__()\n",
    "        \n",
    "        # TODO: Define first convolutional layer with 16 filters of size 5x5.\n",
    "        self.conv1 = nn.Conv2d(1, 16, kernel_size=5)\n",
    "        # TODO: Define the second convolutional layer\n",
    "        self.conv2 = nn.Conv2d(16, 16, kernel_size=5)\n",
    "        # TODO: Define the third convolutional layer\n",
    "        self.conv3 = nn.Conv2d(16, 16, kernel_size=5)\n",
    "        \n",
    "        # TODO: Define a max pooling layer with a 2x2 window\n",
    "        self.pool = nn.MaxPool2d(3, stride=2)\n",
    "        \n",
    "        # TODO: Calculate the correct number of features to input to this layer from the output of the last Conv layer\n",
    "        self.fc = nn.Linear(None, 10)  # TODO: Change None to the correct number of input features\n",
    "\n",
    "    def forward(self, x):\n",
    "        # Apply the first convolutional layer followed by ReLU and pooling\n",
    "        x = self.pool(F.relu(self.conv1(x)))\n",
    "        # Apply the second convolutional layer followed by ReLU and pooling\n",
    "        x = self.pool(F.relu(self.conv2(x)))\n",
    "        # Apply the third convolutional layer\n",
    "        x = F.relu(self.conv3(x))\n",
    "        \n",
    "        # Flatten the output from the convolutional layers\n",
    "        x = torch.flatten(x, 1)  # Flatten all dimensions except batch\n",
    "        \n",
    "        # Apply the fully connected layer\n",
    "        x = self.fc(x)\n",
    "        \n",
    "        return x"
   ]
  },
  {
   "cell_type": "markdown",
   "id": "f17053d2",
   "metadata": {},
   "source": [
    "## Step 3: Implementing a Training Loop in PyTorch on MNIST\n",
    "\n",
    "### Objective\n",
    "You will complete the implementation of a basic training loop for a neural network model using PyTorch.\n",
    "\n",
    "### Tasks\n",
    "\n",
    "1. **Set Up the Optimizer**\n",
    "   - Initialize the Adam optimizer with a learning rate of 0.001. Use `model.parameters()` to specify which parameters the optimizer should update.\n",
    "\n",
    "2. **Forward Pass**\n",
    "   - Perform the forward pass by passing the input batch `X` through the model. Assign the output to `p`.\n",
    "\n",
    "3. **Loss Computation**\n",
    "   - Calculate the loss using the cross-entropy loss function, which is appropriate for classification tasks. PyTorch's `torch.nn.functional.cross_entropy` can be used here, which internally applies a softmax on the model's outputs.\n",
    "\n",
    "4. **Backpropagation**\n",
    "   - Use the `.backward()` method on the `loss` variable to compute gradients for the parameters.\n",
    "\n",
    "5. **Clear Gradients**\n",
    "   - After updating the model parameters, clear the optimizer's gradients with the appropriate method to prevent them from accumulating.\n",
    "\n"
   ]
  },
  {
   "cell_type": "code",
   "execution_count": 1,
   "id": "7427c81c",
   "metadata": {},
   "outputs": [],
   "source": [
    "def train(model, itrs=500):\n",
    "    # Initialize a list to store loss values at each step to visualize the training progress.\n",
    "    loss_val = []\n",
    "    \n",
    "    # TODO: Set up the optimizer; using Adam with a learning rate of 0.001, and model.parameters()\n",
    "    optim = None\n",
    "    \n",
    "    # Start the training loop for a specified number of steps.\n",
    "    for i in range(itrs):\n",
    "        # Sample a batch of data; 'make_batch' should provide input features X and labels y.\n",
    "        X, y = make_batch(N=200, collection='train')\n",
    "        \n",
    "        # TODO: Forward pass, compute the model's predictions based on the input batch.\n",
    "        p = None\n",
    "        \n",
    "        # TODO: Compute the loss using PyTorch cross-entropy, this evaluates the multi-class loss (the softmax is done internally)\n",
    "        loss = None\n",
    "        \n",
    "        # TODO: Perform backpropagation on loss to calculate gradients.\n",
    "        ###HERE###\n",
    "        # Update model parameters based on computed gradients.\n",
    "        optim.step()\n",
    "        \n",
    "        # TODO: Clear the gradients of the optimizer to prevent them from accumulating.\n",
    "        ###HERE###\n",
    "        # Store the current loss value to track how it changes through training.\n",
    "        loss_val.append(float(loss))\n",
    "        \n",
    "        # Every 100 steps, print the current step number and its corresponding loss.\n",
    "        if i % 100 == 0:\n",
    "            print(f'loss: {i}: {loss:.4f}')\n",
    "    \n",
    "    # Return the trained model and the trajectory of loss values.\n",
    "    return model, np.array(loss_val)\n"
   ]
  },
  {
   "cell_type": "code",
   "execution_count": 137,
   "id": "1f8f5380",
   "metadata": {},
   "outputs": [
    {
     "name": "stdout",
     "output_type": "stream",
     "text": [
      "loss: 0: 2.3038\n"
     ]
    }
   ],
   "source": [
    "model = MyCNN()\n",
    "trained_model, ls_val = train(model)"
   ]
  },
  {
   "cell_type": "code",
   "execution_count": 138,
   "id": "3e2a5388",
   "metadata": {},
   "outputs": [
    {
     "data": {
      "text/plain": [
       "[<matplotlib.lines.Line2D at 0x7ff561556110>]"
      ]
     },
     "execution_count": 138,
     "metadata": {},
     "output_type": "execute_result"
    },
    {
     "data": {
      "image/png": "[encoded data removed]",
      "text/plain": [
       "<Figure size 432x288 with 1 Axes>"
      ]
     },
     "metadata": {
      "needs_background": "light"
     },
     "output_type": "display_data"
    }
   ],
   "source": [
    "plt.plot(las_val)"
   ]
  },
  {
   "cell_type": "markdown",
   "id": "ac1fcc0a",
   "metadata": {},
   "source": [
    "## Step 4 - evaluate on the test set\n",
    "\n",
    "### Objective\n",
    "Now that you have trained your model, it's crucial to evaluate its performance on test data.\n",
    "\n"
   ]
  },
  {
   "cell_type": "code",
   "execution_count": 139,
   "id": "f99d40dd",
   "metadata": {},
   "outputs": [
    {
     "data": {
      "text/plain": [
       "<matplotlib.image.AxesImage at 0x7ff561c74e90>"
      ]
     },
     "execution_count": 139,
     "metadata": {},
     "output_type": "execute_result"
    },
    {
     "data": {
      "image/png": "[encoded data removed]",
      "text/plain": [
       "<Figure size 432x288 with 1 Axes>"
      ]
     },
     "metadata": {
      "needs_background": "light"
     },
     "output_type": "display_data"
    }
   ],
   "source": [
    "X,y = make_batch(N = 1, collection='test')\n",
    "plt.imshow(X[0,0])"
   ]
  },
  {
   "cell_type": "code",
   "execution_count": null,
   "id": "b80fd5df",
   "metadata": {},
   "outputs": [
    {
     "name": "stderr",
     "output_type": "stream",
     "text": [
      "/Users/Psychology/anaconda3/lib/python3.7/site-packages/ipykernel_launcher.py:1: UserWarning: Implicit dimension choice for softmax has been deprecated. Change the call to include dim=X as an argument.\n",
      "  \"\"\"Entry point for launching an IPython kernel.\n"
     ]
    },
    {
     "data": {
      "text/plain": [
       "[]"
      ]
     },
     "execution_count": 140,
     "metadata": {},
     "output_type": "execute_result"
    },
    {
     "data": {
      "image/png": "[encoded data removed]",
      "text/plain": [
       "<Figure size 432x288 with 1 Axes>"
      ]
     },
     "metadata": {
      "needs_background": "light"
     },
     "output_type": "display_data"
    }
   ],
   "source": [
    "# Plot a bar chart of class probabilities for a single sample from model output\n",
    "# `torch.nn.functional.softmax(...)`: Apply the softmax function to convert logits into probabilities.\n",
    "plt.bar(range(10), torch.nn.functional.softmax(model(X)).detach()[0])\n",
    "\n",
    "plt.semilogy()\n"
   ]
  },
  {
   "cell_type": "code",
   "execution_count": null,
   "id": "39e39377",
   "metadata": {},
   "outputs": [],
   "source": []
  }
 ],
 "metadata": {
  "kernelspec": {
   "display_name": "Python 3 (ipykernel)",
   "language": "python",
   "name": "python3"
  },
  "language_info": {
   "codemirror_mode": {
    "name": "ipython",
    "version": 3
   },
   "file_extension": ".py",
   "mimetype": "text/x-python",
   "name": "python",
   "nbconvert_exporter": "python",
   "pygments_lexer": "ipython3",
   "version": "3.9.18"
  }
 },
 "nbformat": 4,
 "nbformat_minor": 5
}
